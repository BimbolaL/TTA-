{
 "cells": [
  {
   "cell_type": "code",
   "execution_count": null,
   "metadata": {},
   "outputs": [],
   "source": [
    "# Task1\n",
    "# w open a file to Write\n",
    "# n mean new line operator/ write new number in a new line\n",
    "# close() mean file must be close\n",
    "# Write a program that allows you to enter 4 numbers and stores them in a file called “Numbers”\n",
    "my_file = open (\"number.txt\", \"w\") \n",
    "\n",
    "for i in (40):\n",
    "    my_file.write(str(i))\n",
    "    my_file.write(\"\\n\") \n",
    "# n allow you to write each number on a new line\n",
    "    my_file.close()"
   ]
  },
  {
   "cell_type": "code",
   "execution_count": null,
   "metadata": {},
   "outputs": [],
   "source": [
    "# Reading to file \n",
    "with open (\"numbers.txt\" , \"r\") as myfile:\n",
    "data = myfile.read().replace('\\n', ',')\n",
    "myfile.close()"
   ]
  },
  {
   "cell_type": "markdown",
   "metadata": {},
   "source": []
  },
  {
   "cell_type": "code",
   "execution_count": null,
   "metadata": {},
   "outputs": [],
   "source": [
    "# Appending to file \n",
    "my_file= open(\"numbers.txt\", \"a\") \n",
    "    my_file.write(\"Where has it gone\")\n",
    "    my_file.close()\n",
    "    print(data)\n"
   ]
  }
 ],
 "metadata": {
  "interpreter": {
   "hash": "2be5faf79681da6f2a61fdfdd5405d65d042280f7fba6178067603e3a2925119"
  },
  "kernelspec": {
   "display_name": "Python 3.10.1 64-bit",
   "language": "python",
   "name": "python3"
  },
  "language_info": {
   "codemirror_mode": {
    "name": "ipython",
    "version": 3
   },
   "file_extension": ".py",
   "mimetype": "text/x-python",
   "name": "python",
   "nbconvert_exporter": "python",
   "pygments_lexer": "ipython3",
   "version": "3.8.9"
  },
  "orig_nbformat": 4
 },
 "nbformat": 4,
 "nbformat_minor": 2
}
