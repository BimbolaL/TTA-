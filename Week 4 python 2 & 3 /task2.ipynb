{
 "cells": [
  {
   "cell_type": "code",
   "execution_count": null,
   "metadata": {},
   "outputs": [],
   "source": [
    "# Task2\n",
    "# write a program that ask student for their percentage  mark and convert this to a grade\n",
    "\n",
    "student_mark = int(input(\"Enter a number\"))\n",
    "\n",
    "if student_mark == 90:\n",
    "    print(\"exam grade is A\")\n",
    "else: \n",
    "    print(\"your grade is  grade is  pass\")\n"
   ]
  },
  {
   "cell_type": "code",
   "execution_count": null,
   "metadata": {},
   "outputs": [],
   "source": [
    "# task 2\n",
    "# The conversion will be done in a function called mark_grade\n",
    "target_grade = input(\"What is your target grade?\")\n",
    "student_mark = input(\"What is your mark?\")\n",
    "print(\"student's target grade is \" + target_grade + \" and mark is \" + student_mark + \".\")"
   ]
  },
  {
   "cell_type": "code",
   "execution_count": null,
   "metadata": {},
   "outputs": [],
   "source": [
    "# Extention to Task 2 \n",
    "\n",
    "# Ask the user for their target grade and print this with their mark\n",
    "# • If their target grade > exam grade display a suitable message\n",
    "# • If their target grade = exam grade display a suitable message\n",
    "# • If their target grade < exam grade display a suitable message\n",
    "i = 70\n",
    "if i > 70:\n",
    "    print(\"exam grade is above B.\")\n",
    "elif i == 70:\n",
    "    print(\"exam grade is B.\")\n",
    "elif i < 70:\n",
    "    print(\"exam grade is below B\")"
   ]
  }
 ],
 "metadata": {
  "interpreter": {
   "hash": "31f2aee4e71d21fbe5cf8b01ff0e069b9275f58929596ceb00d14d90e3e16cd6"
  },
  "kernelspec": {
   "display_name": "Python 3.8.9 64-bit",
   "language": "python",
   "name": "python3"
  },
  "language_info": {
   "codemirror_mode": {
    "name": "ipython",
    "version": 3
   },
   "file_extension": ".py",
   "mimetype": "text/x-python",
   "name": "python",
   "nbconvert_exporter": "python",
   "pygments_lexer": "ipython3",
   "version": "3.8.9"
  },
  "orig_nbformat": 4
 },
 "nbformat": 4,
 "nbformat_minor": 2
}
