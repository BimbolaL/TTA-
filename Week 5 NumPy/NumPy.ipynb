{
 "cells": [
  {
   "cell_type": "code",
   "execution_count": null,
   "metadata": {},
   "outputs": [],
   "source": [
    "# Task 1\n",
    "# Create a 1D array of numbers from 0 to 9\n",
    "import numpy as np\n",
    "arr= np.array([0, 1, 2, 3, 4, 5, 6, 7, 8, 9])\n",
    "print(arr)"
   ]
  },
  {
   "cell_type": "code",
   "execution_count": null,
   "metadata": {},
   "outputs": [],
   "source": [
    "# TASK 2\n",
    "# Create a 3×3 NumPy array of all Boolean value Trues\n",
    "arr = np.reshape(np.arange(9), (3, 3))\n",
    "print(arr)"
   ]
  },
  {
   "cell_type": "code",
   "execution_count": 10,
   "metadata": {},
   "outputs": [
    {
     "name": "stdout",
     "output_type": "stream",
     "text": [
      "[False  True False  True False  True False  True False  True]\n"
     ]
    }
   ],
   "source": [
    "# TASK 3\n",
    "# Extract all odd numbers from array of 1-10\n",
    "\n",
    "arr = np.array([0, 1, 2, 3, 4, 5, 6, 7,  8, 9])\n",
    "arr_odd = (arr % 2 == 1)\n",
    "\n",
    "print(arr_odd)\n"
   ]
  },
  {
   "cell_type": "code",
   "execution_count": null,
   "metadata": {},
   "outputs": [],
   "source": [
    "# TASK 4\n",
    "# Replace all odd numbers in an array of 1-10 with -1\n",
    "# I create 1D numpy array from a list\n",
    "arr = np.array([1, 2, 3, 4, 5, 6, 7, 8, 9, 10])\n",
    "arr[arr % 2 == 1] = -1\n",
    "print(arr)\n"
   ]
  },
  {
   "cell_type": "code",
   "execution_count": 27,
   "metadata": {},
   "outputs": [
    {
     "name": "stdout",
     "output_type": "stream",
     "text": [
      "[[0 1 2 3 4]\n",
      " [5 6 7 8 9]]\n"
     ]
    }
   ],
   "source": [
    "# TASK 5\n",
    "# Convert a 1D array to a 2D array with 2 rows\n",
    "# I create 1D numpy array from a list\n",
    "# I create 1D numpy array from a list\n",
    "arr = np.array([0, 1, 2, 3, 4, 5, 6, 7, 8, 9])\n",
    "arr_2d = arr.reshape(2, 5)\n",
    "print(arr_2d)\n"
   ]
  },
  {
   "cell_type": "code",
   "execution_count": 33,
   "metadata": {},
   "outputs": [
    {
     "name": "stdout",
     "output_type": "stream",
     "text": [
      "<built-in function sum>\n"
     ]
    }
   ],
   "source": [
    "# TASK 6\n",
    "# Create two arrays a and b, stack theses two arrays vertically use the np.dot and np.sum to calculate\n",
    "a = np.arange(3, 12).reshape(3,3)\n",
    "b = np.arange(6, 15).reshape(3,3)\n",
    "c = np.dot(a, b)\n",
    "print (sum)\n"
   ]
  },
  {
   "cell_type": "code",
   "execution_count": 36,
   "metadata": {},
   "outputs": [
    {
     "name": "stdout",
     "output_type": "stream",
     "text": [
      "[1, 1, 1, 2, 2, 2, 3, 3, 3, 1, 2, 3, 1, 2, 3, 1, 2, 3]\n"
     ]
    }
   ],
   "source": [
    "# Extention 1\n",
    "# Create the followings pattern without hardcoding. use oonly NumPy function #>array([1, 1, 1, 2, 2, 2, 3, 3, 3, 1, 2, 3, 1, 2, 3, 1, 2, 3]) \n",
    "pattern_1 =[1, 1, 1]\n",
    "pattern_2 =[2, 2, 2]\n",
    "pattern_3 =[3, 3, 3]\n",
    "pattern_123 =[1, 2, 3]\n",
    "pattern_123_1 =[1, 2, 3]\n",
    "pattern_123_2 =[1, 2, 3]\n",
    "\n",
    "print (pattern_1 + pattern_2 + pattern_3 + pattern_123 + pattern_123_1 +pattern_123_2)"
   ]
  },
  {
   "cell_type": "code",
   "execution_count": 42,
   "metadata": {},
   "outputs": [
    {
     "name": "stdout",
     "output_type": "stream",
     "text": [
      "[1 2 3]\n"
     ]
    }
   ],
   "source": [
    "# Extention 2\n",
    "# In two array a (1,2,3,4,5) and b(4,5,6,7,8,9)- remove all repeating ites present in array b\n",
    "a = np.array([1,2,3,4,5])\n",
    "b = np.array([4,5,6,7,8,9])\n",
    "c= np.setdiff1d(a,b)\n",
    "print(c)\n"
   ]
  },
  {
   "cell_type": "code",
   "execution_count": 50,
   "metadata": {},
   "outputs": [
    {
     "name": "stdout",
     "output_type": "stream",
     "text": [
      "[4 5]\n",
      "[7 8 9]\n",
      "<built-in function sum>\n"
     ]
    }
   ],
   "source": [
    "# Extention 2\n",
    "# Get all items between 3 and 7 from a and b sum them together\n",
    "a = np.array([1,2,3,4,5])\n",
    "b = np.array([4,5,6,7,8,9])\n",
    "\n",
    "print(a[3:7])\n",
    "print(b[3:7])\n",
    "print(sum)"
   ]
  }
 ],
 "metadata": {
  "interpreter": {
   "hash": "2be5faf79681da6f2a61fdfdd5405d65d042280f7fba6178067603e3a2925119"
  },
  "kernelspec": {
   "display_name": "Python 3.10.1 64-bit",
   "language": "python",
   "name": "python3"
  },
  "language_info": {
   "codemirror_mode": {
    "name": "ipython",
    "version": 3
   },
   "file_extension": ".py",
   "mimetype": "text/x-python",
   "name": "python",
   "nbconvert_exporter": "python",
   "pygments_lexer": "ipython3",
   "version": "3.10.1"
  },
  "orig_nbformat": 4
 },
 "nbformat": 4,
 "nbformat_minor": 2
}
