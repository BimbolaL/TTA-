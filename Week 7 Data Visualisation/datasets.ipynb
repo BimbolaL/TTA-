{
 "cells": [
  {
   "cell_type": "code",
   "execution_count": null,
   "metadata": {},
   "outputs": [],
   "source": [
    "\n",
    "# Go to: https://www.kaggle.com/datasets ​\n",
    "\n",
    "# Select a dataset.​\n",
    "\n",
    "# Then create a data dashboard using Altair or Tableau  https://public.tableau.com/en-us/s/ ​\n",
    "\n",
    "# Then create a markdown cell explain why you have decided on the design choices, what influenced your decisions an\n"
   ]
  },
  {
   "cell_type": "code",
   "execution_count": null,
   "metadata": {},
   "outputs": [],
   "source": []
  }
 ],
 "metadata": {
  "language_info": {
   "name": "python"
  },
  "orig_nbformat": 4
 },
 "nbformat": 4,
 "nbformat_minor": 2
}
